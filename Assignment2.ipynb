{
 "cells": [
  {
   "cell_type": "markdown",
   "id": "a9d81d55-5698-4e37-8beb-58415a3b2ecf",
   "metadata": {},
   "source": [
    "**1. String.capitalize()**\n",
    "\n",
    "**Task:** Makes the first character uppercase and the rest lowercase."
   ]
  },
  {
   "cell_type": "code",
   "execution_count": 1,
   "id": "ea274767-4724-4b1e-b2ff-8119e21383bc",
   "metadata": {},
   "outputs": [
    {
     "name": "stdout",
     "output_type": "stream",
     "text": [
      "Hello world\n"
     ]
    }
   ],
   "source": [
    "string = \"hello world\"\n",
    "result = string.capitalize()\n",
    "print(result)"
   ]
  },
  {
   "cell_type": "markdown",
   "id": "9341d166-1c42-4529-9196-f6a56b7e3a58",
   "metadata": {},
   "source": [
    "**2. String.casefold()**\n",
    "\n",
    "**Task:** Convert all letters to lowercase (more aggressive then **lower()** and works with special characters).\n"
   ]
  },
  {
   "cell_type": "code",
   "execution_count": 2,
   "id": "559e41a9-8448-445f-92a9-13a79edd21f6",
   "metadata": {},
   "outputs": [
    {
     "name": "stdout",
     "output_type": "stream",
     "text": [
      "this is a python program\n"
     ]
    }
   ],
   "source": [
    "string = \"THIS IS A Python program\"\n",
    "result = string.casefold()\n",
    "print(result)"
   ]
  },
  {
   "cell_type": "markdown",
   "id": "f2e29d2f-b813-4e7c-a035-683146411ce6",
   "metadata": {},
   "source": [
    "**3.String.center(width, fillchar)**\n",
    "\n",
    "**Task:** Puts the string in the center, filling the left and right sides with the given character."
   ]
  },
  {
   "cell_type": "code",
   "execution_count": 5,
   "id": "74075b87-fbed-4bb3-a429-59381907d968",
   "metadata": {},
   "outputs": [
    {
     "name": "stdout",
     "output_type": "stream",
     "text": [
      "*************This is a Python program*************\n"
     ]
    }
   ],
   "source": [
    "string = \"This is a Python program\"\n",
    "result = string.center(50, \"*\")\n",
    "print(result)"
   ]
  },
  {
   "cell_type": "markdown",
   "id": "7fcd68e2-6225-47a3-90bc-d08d55129740",
   "metadata": {},
   "source": [
    "**4. String.count(sub[, start[, end]])**\n",
    "\n",
    "**Task:** Returns how many times a substring appears in the string."
   ]
  },
  {
   "cell_type": "code",
   "execution_count": 9,
   "id": "0280c2d0-82aa-432a-aecf-6c1d93272b4a",
   "metadata": {},
   "outputs": [
    {
     "name": "stdout",
     "output_type": "stream",
     "text": [
      "3\n"
     ]
    }
   ],
   "source": [
    "string = \"apple,banana, apple, mango, apple,\"\n",
    "result = string.count(\"apple\")\n",
    "print(result)\n"
   ]
  },
  {
   "cell_type": "markdown",
   "id": "369c311c-bae9-4ab2-8790-fd65c9befee2",
   "metadata": {},
   "source": [
    "**5. String.encode(encoding=\"utf-8\",error=\"strict\")**\n",
    "\n",
    "**Task:** Returna an encoded version of the string in bytes. "
   ]
  },
  {
   "cell_type": "code",
   "execution_count": 1,
   "id": "4e24f6bc-a523-4dc9-9d86-249956512627",
   "metadata": {},
   "outputs": [
    {
     "name": "stdout",
     "output_type": "stream",
     "text": [
      "b'this is a python program'\n"
     ]
    }
   ],
   "source": [
    "string = \"this is a python program\"\n",
    "result = string.encode()\n",
    "print(result)"
   ]
  },
  {
   "cell_type": "markdown",
   "id": "20760f0d-5e72-44f0-b570-dcf2dbac5144",
   "metadata": {},
   "source": [
    "**6. String.endswith(suffix[,start[,end]])**\n",
    "\n",
    "**Task:** Checks if the string ends with the given suffix. Returns **True** and **False.**"
   ]
  },
  {
   "cell_type": "code",
   "execution_count": 5,
   "id": "e64c34a4-2773-49b5-9970-6f54d3a46839",
   "metadata": {},
   "outputs": [
    {
     "name": "stdout",
     "output_type": "stream",
     "text": [
      "True\n"
     ]
    }
   ],
   "source": [
    "string = \"python is a powerful programming language\"\n",
    "result = string.endswith(\"language\")\n",
    "print(result)"
   ]
  },
  {
   "cell_type": "markdown",
   "id": "9a41fc92-2f35-45fb-904a-499a897fcf6b",
   "metadata": {},
   "source": [
    "**7. String.expandtabs(tabsize=8)**\n",
    "\n",
    "**Task:** Replaces the tab character **\\t** in a string with spaces. The number of spaces is decided by **tabsize** (default is 8)."
   ]
  },
  {
   "cell_type": "code",
   "execution_count": 7,
   "id": "3fd584dd-3665-4e1e-91c3-3e2a66e69cdc",
   "metadata": {},
   "outputs": [
    {
     "name": "stdout",
     "output_type": "stream",
     "text": [
      "Hello     World\n"
     ]
    }
   ],
   "source": [
    "string = \"Hello\\tWorld\"\n",
    "result = string.expandtabs(5)\n",
    "print(result)"
   ]
  },
  {
   "cell_type": "markdown",
   "id": "2f2b84f4-d0e5-477b-939b-0965a0c83c6a",
   "metadata": {},
   "source": [
    "**8. String.find(sub[, start[, end]])**\n",
    "\n",
    "**Task:** This mathod **searches** the string for the first occurrence of a given **substring**(sub). If it finds the substring, it returns the \n",
    "**index number** (position) where it starts. Index starts from 0 in Python (first character = 0, second = 1, and so on). \n"
   ]
  },
  {
   "cell_type": "code",
   "execution_count": 8,
   "id": "7730a019-55b3-4064-a7d5-0b059304680b",
   "metadata": {},
   "outputs": [
    {
     "name": "stdout",
     "output_type": "stream",
     "text": [
      "12\n"
     ]
    }
   ],
   "source": [
    "string = \"python is a powerful programming language\"\n",
    "result = string.find(\"powerful\")\n",
    "print(result)"
   ]
  },
  {
   "cell_type": "markdown",
   "id": "f4c634d3-bf6c-42b2-a4ed-a3b7ba6aa6b7",
   "metadata": {},
   "source": [
    "**9. String.format(args, kwargs)**\n",
    "\n",
    "**Task:** Returns a formatted version of the string where {} placeholders are replaced with values.\n",
    "\n",
    "(a). **args** - used for **positional arguments** (values filled in order).\n",
    "\n",
    "(b). **kwargs** - used for **keyword arguments (values filled by name)."
   ]
  },
  {
   "cell_type": "code",
   "execution_count": 9,
   "id": "b2f9bea2-2f79-4ec8-b3d0-cba49807a5e8",
   "metadata": {},
   "outputs": [
    {
     "name": "stdout",
     "output_type": "stream",
     "text": [
      "My name is sachin and I am 16 years old\n"
     ]
    }
   ],
   "source": [
    "string = \"My name is {0} and I am {1} years old\"\n",
    "result = string.format(\"sachin\", \"16\")\n",
    "print(result)"
   ]
  },
  {
   "cell_type": "markdown",
   "id": "910d8739-7e95-4425-bbc0-783409da47c0",
   "metadata": {},
   "source": [
    "**10. String.lstrip()**\n",
    "\n",
    "**Task:** Write a Python program to **remove all leading spaces** or specific charaters from the left side of a string using the \n",
    "**lstrip()** method."
   ]
  },
  {
   "cell_type": "code",
   "execution_count": 16,
   "id": "e93828fb-f739-4bd4-a42a-a7b479b641c7",
   "metadata": {},
   "outputs": [
    {
     "ename": "SyntaxError",
     "evalue": "invalid syntax (2964319751.py, line 5)",
     "output_type": "error",
     "traceback": [
      "\u001b[1;36m  Cell \u001b[1;32mIn[16], line 5\u001b[1;36m\u001b[0m\n\u001b[1;33m    string2 = (****Hello World****)\u001b[0m\n\u001b[1;37m               ^\u001b[0m\n\u001b[1;31mSyntaxError\u001b[0m\u001b[1;31m:\u001b[0m invalid syntax\n"
     ]
    }
   ],
   "source": [
    "string1 = \"   Pyton Programming\"\n",
    "result1 = string.lstrip()\n",
    "print(result1)\n",
    "\n",
    "string2 = (****Hello World****)\n",
    "result2 = string2.lstrip(\"*\")\n",
    "print(result2)\n",
    "\n",
    "string3 = \">>>>>>Python#####\"\n",
    "result3 = string3.lstrip(\">#\")\n",
    "print(result3)"
   ]
  },
  {
   "cell_type": "markdown",
   "id": "c2d0077f-834c-4464-a53c-9ce51125c002",
   "metadata": {},
   "source": [
    "**11. String.index(sub[, start[, end]])**\n",
    "\n",
    "**Task:** Find the position (index) of a given substring in a string using the **index()** method. "
   ]
  },
  {
   "cell_type": "code",
   "execution_count": 23,
   "id": "43bcf96f-b1b0-47ab-8801-aa45ed30d7be",
   "metadata": {},
   "outputs": [
    {
     "name": "stdout",
     "output_type": "stream",
     "text": [
      "Index position of 'programming': 21\n"
     ]
    }
   ],
   "source": [
    "string = \"python is a powerful programming language\"\n",
    "result = string.index(\"programming\")\n",
    "print(\"Index position of 'programming':\", result)"
   ]
  },
  {
   "cell_type": "markdown",
   "id": "08149ec4-2388-4abc-882e-9c09c971c40e",
   "metadata": {},
   "source": [
    "**12. String.isalnum()\n",
    "\n",
    "**Task:** Write a Python program to check whether a given string contains **only alphabets(A-Z, a-z) and/or numbers(0-9)** without any \n",
    "spaces, symbols,or special characters."
   ]
  },
  {
   "cell_type": "code",
   "execution_count": 24,
   "id": "0010ea99-1c94-488f-b732-a0e09ceccc73",
   "metadata": {},
   "outputs": [
    {
     "name": "stdout",
     "output_type": "stream",
     "text": [
      "True\n",
      "False\n"
     ]
    }
   ],
   "source": [
    "string1 = \"python123\"\n",
    "string2 = \"python 123\"\n",
    "\n",
    "print(string1.isalnum())\n",
    "print(string2.isalnum())"
   ]
  },
  {
   "cell_type": "markdown",
   "id": "2144afad-1cc7-46f9-a993-cb4d8bf155aa",
   "metadata": {},
   "source": [
    "**13. String.isalpha()**\n",
    "\n",
    "**Task:** Check if a string contains **only alphabets** (no numbers, no spaces, no special characters)."
   ]
  },
  {
   "cell_type": "code",
   "execution_count": 25,
   "id": "01934634-1c2f-4c97-8950-5e9af958aa33",
   "metadata": {},
   "outputs": [
    {
     "name": "stdout",
     "output_type": "stream",
     "text": [
      "True\n",
      "False\n"
     ]
    }
   ],
   "source": [
    "string1 = \"python\"\n",
    "string2 = \"python12\"\n",
    "\n",
    "print(string1.isalpha())\n",
    "print(string2.isalpha())"
   ]
  },
  {
   "cell_type": "markdown",
   "id": "72b8a07c-4ada-4d11-a0fe-a41fc368dfd0",
   "metadata": {},
   "source": [
    "**14. String.isdecimal()**\n",
    "\n",
    "**Task:** Write a Python program that checks wheter the given string contains **only decimal digit characters(0-9)** without any lettera spaces,\n",
    "dots, or symbols."
   ]
  },
  {
   "cell_type": "code",
   "execution_count": 26,
   "id": "6b7621c2-e75e-4a54-afca-8d6b72c8e005",
   "metadata": {},
   "outputs": [
    {
     "name": "stdout",
     "output_type": "stream",
     "text": [
      "True\n",
      "False\n",
      "False\n"
     ]
    }
   ],
   "source": [
    "string1 = \"123456\"\n",
    "string2 = \"123.45\"\n",
    "string3 = \"123ASD\"\n",
    "\n",
    "print(string1.isdecimal())\n",
    "print(string2.isdecimal())\n",
    "print(string3.isdecimal())"
   ]
  },
  {
   "cell_type": "markdown",
   "id": "13a0042d-c641-4011-aaf5-0495a6fab3e3",
   "metadata": {},
   "source": [
    "**15. String.isdigit()**\n",
    "\n",
    "**Task:** Check if all character in a given string are ASCII characters.\n",
    "\n",
    "**(a)** Returns **True** if all character in the string are ASCII.\n",
    "\n",
    "**(b)** ASCII includes English alphabets, numbers, and common punctuation.\n",
    "\n",
    "**(c)** If there is even one-ASCII charcter, it will return **False.**"
   ]
  },
  {
   "cell_type": "code",
   "execution_count": 2,
   "id": "6824ec43-77e9-4252-984c-721f418e1e90",
   "metadata": {},
   "outputs": [
    {
     "name": "stdout",
     "output_type": "stream",
     "text": [
      "True\n",
      "False\n",
      "False\n"
     ]
    }
   ],
   "source": [
    "string1 = \"938354\"\n",
    "string2 = \"93f543\"\n",
    "string3 = \"452^2\"\n",
    "\n",
    "print(string1.isdigit()) \n",
    "print(string2.isdigit())\n",
    "print(string3.isdigit())"
   ]
  },
  {
   "cell_type": "markdown",
   "id": "fbe6db6a-7f61-495a-9f41-bb33e1007100",
   "metadata": {},
   "source": [
    "**16. String.isidentifier()**\n",
    "\n",
    "**Task:** Write a Python program to check whether a given string is a **valid Python identifier.**\n",
    "\n",
    "**(a)** Can contain **alphabets (A-Z, a-z), digits (0-9), and underscores(_).**\n",
    "\n",
    "**(b)** Cannot stert with a digit.\n",
    "\n",
    "**(c)** Cannot contain spaces or special charcters.\n",
    "\n",
    "**(d)** Cannot be a python keyword.\n",
    "\n"
   ]
  },
  {
   "cell_type": "code",
   "execution_count": 3,
   "id": "504f8731-4124-45b1-8bc9-4a6d70104a65",
   "metadata": {},
   "outputs": [
    {
     "name": "stdout",
     "output_type": "stream",
     "text": [
      "True\n",
      "True\n",
      "False\n",
      "False\n"
     ]
    }
   ],
   "source": [
    "string1 = \"pyton\"\n",
    "string2 = \"python123\"\n",
    "string3 = \"123python\"\n",
    "string4 = \"python@\"\n",
    "\n",
    "print(string1.isidentifier())\n",
    "print(string2.isidentifier())\n",
    "print(string3.isidentifier())\n",
    "print(string4.isidentifier())"
   ]
  },
  {
   "cell_type": "markdown",
   "id": "adb18be1-bf04-440c-a2ec-d7c038086a55",
   "metadata": {},
   "source": [
    "**17. String.islower()**\n",
    "\n",
    "**Task:** Write a Python program to check whether all the characters in a given string are **in lowercase.**"
   ]
  },
  {
   "cell_type": "code",
   "execution_count": 4,
   "id": "78d929c8-9fbb-4702-bb63-e6d9989bf21f",
   "metadata": {},
   "outputs": [
    {
     "name": "stdout",
     "output_type": "stream",
     "text": [
      "True\n",
      "False\n",
      "True\n"
     ]
    }
   ],
   "source": [
    "string1 = \"python\"\n",
    "string2 = \"Python\"\n",
    "string3 = \"python123\"\n",
    "\n",
    "print(string1.islower())\n",
    "print(string2.islower())\n",
    "print(string3.islower())\n",
    "\n"
   ]
  },
  {
   "cell_type": "markdown",
   "id": "7cd77640-fb16-45c0-8f7b-b86dd8be40d2",
   "metadata": {},
   "source": [
    "**18. String.isnumeric()**\n",
    "\n",
    "**Task:** Write a Python program to check whether all the characters in a given string are **numeric(0-9)."
   ]
  },
  {
   "cell_type": "code",
   "execution_count": 5,
   "id": "76ac1364-f585-4703-ab6a-b88e397929a3",
   "metadata": {},
   "outputs": [
    {
     "name": "stdout",
     "output_type": "stream",
     "text": [
      "True\n",
      "False\n",
      "True\n",
      "False\n"
     ]
    }
   ],
   "source": [
    "string1 = \"12345\"\n",
    "string2 = \"123abc\"\n",
    "string3 = \"987\"\n",
    "string4 = \"12 354\"\n",
    "\n",
    "print(string1.isnumeric())\n",
    "print(string2.isnumeric())\n",
    "print(string3.isnumeric())\n",
    "print(string4.isnumeric())"
   ]
  },
  {
   "cell_type": "markdown",
   "id": "6402d340-caff-46f6-93f1-e6ee2901e614",
   "metadata": {},
   "source": [
    "**19. String.isspace()**\n",
    "\n",
    "**Task:** Write a Python program to check whether a given string contains **only whitespace charcters.**"
   ]
  },
  {
   "cell_type": "code",
   "execution_count": 6,
   "id": "aaedb6fa-643b-47a2-8e75-b7e8e9ed6b80",
   "metadata": {},
   "outputs": [
    {
     "name": "stdout",
     "output_type": "stream",
     "text": [
      "True\n",
      "True\n",
      "False\n",
      "False\n"
     ]
    }
   ],
   "source": [
    "string1 = \"      \"\n",
    "string2 = \"\\t\"\n",
    "string3 = \"123\"\n",
    "string4 = \"python\"\n",
    "\n",
    "print(string1.isspace())\n",
    "print(string2.isspace())\n",
    "print(string3.isspace()) \n",
    "print(string4.isspace())"
   ]
  },
  {
   "cell_type": "markdown",
   "id": "b5a0b2b3-3957-405b-a32c-9c8137300c6f",
   "metadata": {},
   "source": [
    "**20. String.istitle()**\n",
    "\n",
    "**Task:** Write a Python program to check whether a given string is in **Title Case** or not using the istitle() method."
   ]
  },
  {
   "cell_type": "code",
   "execution_count": 7,
   "id": "1271a9f0-0584-4347-91d2-e19931b99680",
   "metadata": {},
   "outputs": [
    {
     "name": "stdout",
     "output_type": "stream",
     "text": [
      "True\n",
      "False\n",
      "False\n"
     ]
    }
   ],
   "source": [
    "string1 = \"Pyton Programming\"\n",
    "string2 = \"python programming\"\n",
    "string3 = \"PYTHON Programming\"\n",
    "\n",
    "print(string1.istitle())\n",
    "print(string2.istitle())\n",
    "print(string3.istitle())\n",
    " "
   ]
  },
  {
   "cell_type": "markdown",
   "id": "8b9be389-bb69-472f-b8a1-3640d096d3a1",
   "metadata": {},
   "source": [
    "**21. String.isupper()**\n",
    "\n",
    "**Task:** Write a python program to check whether **all charcters** in a given string are in **uppercase** using the **isupper()** method."
   ]
  },
  {
   "cell_type": "code",
   "execution_count": 8,
   "id": "4efcd841-8254-4b3e-8089-c581af6a92f5",
   "metadata": {},
   "outputs": [
    {
     "name": "stdout",
     "output_type": "stream",
     "text": [
      "False\n",
      "True\n",
      "True\n",
      "False\n"
     ]
    }
   ],
   "source": [
    "string1 = \"pyton\"\n",
    "string2 = \"PYTHON\"\n",
    "string3 = \"PYTHON123\"\n",
    "string4 = \"Python@\"\n",
    "\n",
    "print(string1.isupper())\n",
    "print(string2.isupper())\n",
    "print(string3.isupper())\n",
    "print(string4.isupper())"
   ]
  },
  {
   "cell_type": "markdown",
   "id": "a51d6ef6-c43c-4c7f-ba20-a2c6f1e409f1",
   "metadata": {},
   "source": [
    "**22. String.join()**\n",
    "\n",
    "**Task:** Write a python program to **join element of a list or tuple** into a single using the **join()** method."
   ]
  },
  {
   "cell_type": "code",
   "execution_count": 11,
   "id": "b6c338cc-be8d-4ba3-bdc4-83e512564903",
   "metadata": {},
   "outputs": [
    {
     "name": "stdout",
     "output_type": "stream",
     "text": [
      "Pyton is fun\n",
      "Pyton_is_fun\n",
      "Ram,Shyam,Mohan\n",
      "P*Y*T*H*O*N\n"
     ]
    }
   ],
   "source": [
    "words = [\"Pyton\", \"is\", \"fun\"]\n",
    "result1 = \" \".join(words)\n",
    "print(result1)\n",
    "\n",
    "result2 = \"_\".join(words)\n",
    "print(result2)\n",
    "\n",
    "names = (\"Ram\", \"Shyam\", \"Mohan\")\n",
    "result3 = \",\".join(names)\n",
    "print(result3)\n",
    "\n",
    "chars = \"PYTHON\"\n",
    "result4 = \"*\".join(chars)\n",
    "print(result4)"
   ]
  },
  {
   "cell_type": "markdown",
   "id": "e5bd9197-d48b-4cf8-b420-58154470185c",
   "metadata": {},
   "source": [
    "**23. String.ljust()**\n",
    "\n",
    "**Task:** Write a python program to **left-align a string** by adding extra spaces or a specified cahracter using the **ljust(**) method."
   ]
  },
  {
   "cell_type": "code",
   "execution_count": 14,
   "id": "b3f2ee75-9f0c-4ac0-a1b9-93bae807893f",
   "metadata": {},
   "outputs": [
    {
     "name": "stdout",
     "output_type": "stream",
     "text": [
      "Pyton        |\n",
      "Pyton*******\n",
      "Pyton__________\n",
      "Pyton\n"
     ]
    }
   ],
   "source": [
    "string = \"Pyton\"\n",
    "result1 = string.ljust(12)\n",
    "print(result1, \"|\")\n",
    "\n",
    "result2 = string.ljust(12, '*')\n",
    "print(result2)\n",
    "\n",
    "result3 = string.ljust(15, '_')\n",
    "print(result3)\n",
    "\n",
    "result4 = string.ljust(5)\n",
    "print(result4)"
   ]
  },
  {
   "cell_type": "markdown",
   "id": "db283fce-0cf6-439d-91fb-099afeeee0fe",
   "metadata": {},
   "source": [
    "**23. String.lower()**\n",
    "\n",
    "**Task:** Write a Python program to **convert all characters** or a given string into **lowercase** using the **lower()** method.\n",
    "\n",
    "**(a)** The **lower()** method returns a **new string** wtere **all uppercase charaters** are converted to **lowercase.**\n",
    "\n",
    "**(b)** It does not modify the original string."
   ]
  },
  {
   "cell_type": "code",
   "execution_count": 15,
   "id": "323c5357-5f75-4d3f-991e-d3d492f71e79",
   "metadata": {},
   "outputs": [
    {
     "name": "stdout",
     "output_type": "stream",
     "text": [
      "python programming\n",
      "python is awesome\n",
      "123 python @code\n"
     ]
    }
   ],
   "source": [
    "string1 = \"PYTHON PROGRAMMING\"\n",
    "result1 = string1.lower()\n",
    "print(result1)\n",
    "\n",
    "string2 = \"Python IS AwESome\"\n",
    "result2 = string2.lower()\n",
    "print(result2)\n",
    "\n",
    "string3 = \"123 PYTHON @code\"\n",
    "result3 = string3.lower()\n",
    "print(result3)\n"
   ]
  },
  {
   "cell_type": "code",
   "execution_count": null,
   "id": "bbe558f5-3a27-449c-9597-dd4746be1b74",
   "metadata": {},
   "outputs": [],
   "source": []
  }
 ],
 "metadata": {
  "kernelspec": {
   "display_name": "Python 3 (ipykernel)",
   "language": "python",
   "name": "python3"
  },
  "language_info": {
   "codemirror_mode": {
    "name": "ipython",
    "version": 3
   },
   "file_extension": ".py",
   "mimetype": "text/x-python",
   "name": "python",
   "nbconvert_exporter": "python",
   "pygments_lexer": "ipython3",
   "version": "3.13.5"
  }
 },
 "nbformat": 4,
 "nbformat_minor": 5
}
